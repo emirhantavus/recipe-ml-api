{
 "cells": [
  {
   "cell_type": "code",
   "execution_count": 1,
   "id": "db2c1c12-1bcd-4f8a-9049-94a18b5a7de3",
   "metadata": {},
   "outputs": [],
   "source": [
    "import pandas as pd\n",
    "import numpy as np\n",
    "from sklearn.feature_extraction.text import TfidfVectorizer\n",
    "from sklearn.metrics.pairwise import cosine_similarity"
   ]
  },
  {
   "cell_type": "code",
   "execution_count": 2,
   "id": "bc2574f3-f3f1-4fdd-941f-e9a65f249952",
   "metadata": {},
   "outputs": [],
   "source": [
    "df = pd.read_csv(\"recipes.csv\",sep=\",\",encoding=\"utf-8\")"
   ]
  },
  {
   "cell_type": "code",
   "execution_count": 3,
   "id": "0d80b090-fbd7-4deb-bf4d-f714b9a2f336",
   "metadata": {},
   "outputs": [
    {
     "data": {
      "text/html": [
       "<div>\n",
       "<style scoped>\n",
       "    .dataframe tbody tr th:only-of-type {\n",
       "        vertical-align: middle;\n",
       "    }\n",
       "\n",
       "    .dataframe tbody tr th {\n",
       "        vertical-align: top;\n",
       "    }\n",
       "\n",
       "    .dataframe thead th {\n",
       "        text-align: right;\n",
       "    }\n",
       "</style>\n",
       "<table border=\"1\" class=\"dataframe\">\n",
       "  <thead>\n",
       "    <tr style=\"text-align: right;\">\n",
       "      <th></th>\n",
       "      <th>title</th>\n",
       "      <th>ingredients</th>\n",
       "    </tr>\n",
       "  </thead>\n",
       "  <tbody>\n",
       "    <tr>\n",
       "      <th>0</th>\n",
       "      <td>Banana Pancakes</td>\n",
       "      <td>banana, flour, milk, egg</td>\n",
       "    </tr>\n",
       "    <tr>\n",
       "      <th>1</th>\n",
       "      <td>Chocolate Cake</td>\n",
       "      <td>flour, sugar, cocoa powder, egg, milk, butter</td>\n",
       "    </tr>\n",
       "    <tr>\n",
       "      <th>2</th>\n",
       "      <td>Vanilla Muffins</td>\n",
       "      <td>flour, sugar, vanilla, egg, milk, butter</td>\n",
       "    </tr>\n",
       "    <tr>\n",
       "      <th>3</th>\n",
       "      <td>Omelette</td>\n",
       "      <td>egg, milk, salt, pepper</td>\n",
       "    </tr>\n",
       "    <tr>\n",
       "      <th>4</th>\n",
       "      <td>French Toast</td>\n",
       "      <td>bread, egg, milk, cinnamon, sugar</td>\n",
       "    </tr>\n",
       "  </tbody>\n",
       "</table>\n",
       "</div>"
      ],
      "text/plain": [
       "             title                                    ingredients\n",
       "0  Banana Pancakes                       banana, flour, milk, egg\n",
       "1   Chocolate Cake  flour, sugar, cocoa powder, egg, milk, butter\n",
       "2  Vanilla Muffins       flour, sugar, vanilla, egg, milk, butter\n",
       "3         Omelette                        egg, milk, salt, pepper\n",
       "4     French Toast              bread, egg, milk, cinnamon, sugar"
      ]
     },
     "execution_count": 3,
     "metadata": {},
     "output_type": "execute_result"
    }
   ],
   "source": [
    "df.head()"
   ]
  },
  {
   "cell_type": "code",
   "execution_count": 4,
   "id": "5b339aca-1f77-4aae-a958-5e4413f9d81e",
   "metadata": {},
   "outputs": [],
   "source": [
    "df[\"ingredients\"] = df[\"ingredients\"].str.lower()\n",
    "df[\"ingredients\"] = df[\"ingredients\"].str.replace('[^\\w\\s]', '', regex=True)"
   ]
  },
  {
   "cell_type": "code",
   "execution_count": 5,
   "id": "1caa5045-b6c3-4b0f-a2f6-bb4b7d97d0ff",
   "metadata": {},
   "outputs": [
    {
     "data": {
      "text/html": [
       "<div>\n",
       "<style scoped>\n",
       "    .dataframe tbody tr th:only-of-type {\n",
       "        vertical-align: middle;\n",
       "    }\n",
       "\n",
       "    .dataframe tbody tr th {\n",
       "        vertical-align: top;\n",
       "    }\n",
       "\n",
       "    .dataframe thead th {\n",
       "        text-align: right;\n",
       "    }\n",
       "</style>\n",
       "<table border=\"1\" class=\"dataframe\">\n",
       "  <thead>\n",
       "    <tr style=\"text-align: right;\">\n",
       "      <th></th>\n",
       "      <th>title</th>\n",
       "      <th>ingredients</th>\n",
       "    </tr>\n",
       "  </thead>\n",
       "  <tbody>\n",
       "    <tr>\n",
       "      <th>45</th>\n",
       "      <td>Mushroom Risotto</td>\n",
       "      <td>rice mushroom onion parmesan</td>\n",
       "    </tr>\n",
       "    <tr>\n",
       "      <th>46</th>\n",
       "      <td>Zucchini Fritters</td>\n",
       "      <td>zucchini egg flour cheese</td>\n",
       "    </tr>\n",
       "    <tr>\n",
       "      <th>47</th>\n",
       "      <td>Cheesecake</td>\n",
       "      <td>cream cheese sugar egg biscuit</td>\n",
       "    </tr>\n",
       "    <tr>\n",
       "      <th>48</th>\n",
       "      <td>Baked Potato</td>\n",
       "      <td>potato cheese butter sour cream</td>\n",
       "    </tr>\n",
       "    <tr>\n",
       "      <th>49</th>\n",
       "      <td>Shrimp Pasta</td>\n",
       "      <td>pasta shrimp garlic cream</td>\n",
       "    </tr>\n",
       "  </tbody>\n",
       "</table>\n",
       "</div>"
      ],
      "text/plain": [
       "                title                      ingredients\n",
       "45   Mushroom Risotto     rice mushroom onion parmesan\n",
       "46  Zucchini Fritters        zucchini egg flour cheese\n",
       "47         Cheesecake   cream cheese sugar egg biscuit\n",
       "48       Baked Potato  potato cheese butter sour cream\n",
       "49       Shrimp Pasta        pasta shrimp garlic cream"
      ]
     },
     "execution_count": 5,
     "metadata": {},
     "output_type": "execute_result"
    }
   ],
   "source": [
    "df.tail()"
   ]
  },
  {
   "cell_type": "code",
   "execution_count": 6,
   "id": "e268e93a-b6d9-4241-afdc-3a9bb326ff0d",
   "metadata": {},
   "outputs": [
    {
     "name": "stdout",
     "output_type": "stream",
     "text": [
      "TF-IDF Matrix Shape: (50, 69)\n"
     ]
    }
   ],
   "source": [
    "tfidf = TfidfVectorizer()\n",
    "tfidf_matrix = tfidf.fit_transform(df['ingredients'])\n",
    "print(\"TF-IDF Matrix Shape:\", tfidf_matrix.shape)"
   ]
  },
  {
   "cell_type": "code",
   "execution_count": 7,
   "id": "d3a5b2f6-2372-40e5-8907-710fd222fc8d",
   "metadata": {},
   "outputs": [
    {
     "name": "stdout",
     "output_type": "stream",
     "text": [
      "  (0, 24)\t0.41455924614199613\n",
      "  (0, 34)\t0.4293007930024125\n",
      "  (0, 26)\t0.531992873753793\n",
      "  (0, 2)\t0.6006871422303466\n",
      "  (1, 12)\t0.29909741763690273\n",
      "  (1, 49)\t0.43338551659573527\n",
      "  (1, 19)\t0.518111873779411\n",
      "  (1, 60)\t0.3486591594120596\n",
      "  (1, 24)\t0.29909741763690273\n",
      "  (1, 34)\t0.30973319198992166\n",
      "  (1, 26)\t0.38382377482057844\n",
      "  (2, 65)\t0.5749078035667051\n",
      "  (2, 12)\t0.3318847687696796\n",
      "  (2, 60)\t0.38687951709893115\n",
      "  (2, 24)\t0.3318847687696796\n",
      "  (2, 34)\t0.34368644709818774\n",
      "  (2, 26)\t0.4258989120035666\n",
      "  (3, 46)\t0.5657660208236224\n",
      "  (3, 53)\t0.5657660208236224\n",
      "  (3, 24)\t0.4166833412605853\n",
      "  (3, 34)\t0.4315004200214913\n",
      "  (4, 18)\t0.5520304569934306\n",
      "  (4, 8)\t0.4441091539400065\n",
      "  (4, 60)\t0.4441091539400065\n",
      "  (4, 24)\t0.3809792386247897\n",
      "  :\t:\n",
      "  (44, 62)\t0.402381813835243\n",
      "  (44, 4)\t0.49101670167914163\n",
      "  (44, 46)\t0.5463476340970082\n",
      "  (45, 35)\t0.6036785793196606\n",
      "  (45, 51)\t0.4731791575059791\n",
      "  (45, 42)\t0.5459316652310388\n",
      "  (45, 40)\t0.3370938662607094\n",
      "  (46, 68)\t0.6641875145565367\n",
      "  (46, 14)\t0.4119936812765381\n",
      "  (46, 24)\t0.3834244696640789\n",
      "  (46, 26)\t0.49203844174844374\n",
      "  (47, 7)\t0.6123205942585814\n",
      "  (47, 20)\t0.43134612922395943\n",
      "  (47, 14)\t0.37982077383442986\n",
      "  (47, 60)\t0.41205614943267027\n",
      "  (47, 24)\t0.3534825542072208\n",
      "  (48, 56)\t0.5858128177297388\n",
      "  (48, 20)\t0.4126728608294925\n",
      "  (48, 48)\t0.4900153875807489\n",
      "  (48, 14)\t0.3633780732487897\n",
      "  (48, 12)\t0.33818005312914573\n",
      "  (49, 55)\t0.6450651382197516\n",
      "  (49, 44)\t0.5056190315437273\n",
      "  (49, 20)\t0.45441285672470055\n",
      "  (49, 27)\t0.34892594921790004\n"
     ]
    }
   ],
   "source": [
    "print(tfidf_matrix)"
   ]
  },
  {
   "cell_type": "code",
   "execution_count": 8,
   "id": "d0f4e670-a722-4668-ac20-e4acd4a8bcf6",
   "metadata": {},
   "outputs": [
    {
     "data": {
      "text/plain": [
       "array(['apple', 'avocado', 'banana', 'bean', 'beef', 'bell', 'berry',\n",
       "       'biscuit', 'bread', 'breadcrumb', 'broccoli', 'bulgur', 'butter',\n",
       "       'carrot', 'cheese', 'chicken', 'chickpeas', 'chili', 'cinnamon',\n",
       "       'cocoa', 'cream', 'croutons', 'cucumber', 'curry', 'egg', 'feta',\n",
       "       'flour', 'garlic', 'granola', 'grapes', 'honey', 'lemon',\n",
       "       'lettuce', 'mayo', 'milk', 'mushroom', 'mustard', 'oats', 'oil',\n",
       "       'olive', 'onion', 'orange', 'parmesan', 'parsley', 'pasta',\n",
       "       'peanut', 'pepper', 'pita', 'potato', 'powder', 'pumpkin', 'rice',\n",
       "       'salmon', 'salt', 'sauce', 'shrimp', 'sour', 'soy', 'spaghetti',\n",
       "       'strawberry', 'sugar', 'tahini', 'tomato', 'tortilla', 'tuna',\n",
       "       'vanilla', 'water', 'yogurt', 'zucchini'], dtype=object)"
      ]
     },
     "execution_count": 8,
     "metadata": {},
     "output_type": "execute_result"
    }
   ],
   "source": [
    "tfidf.get_feature_names_out()"
   ]
  },
  {
   "cell_type": "code",
   "execution_count": 9,
   "id": "0c26cfed-c31c-49d6-93ea-f1b97f9bd496",
   "metadata": {},
   "outputs": [
    {
     "name": "stdout",
     "output_type": "stream",
     "text": [
      "Cosine similarity matrix shape: (50, 50)\n"
     ]
    }
   ],
   "source": [
    "cosine_sim = cosine_similarity(tfidf_matrix)\n",
    "print(\"Cosine similarity matrix shape:\", cosine_sim.shape)"
   ]
  },
  {
   "cell_type": "code",
   "execution_count": 10,
   "id": "bf4cf19d-80ad-4c31-8433-bbe7a65a84f5",
   "metadata": {},
   "outputs": [
    {
     "name": "stdout",
     "output_type": "stream",
     "text": [
      "Tarif 0 ile Tarif 0 arasındaki benzerlik: 1.000\n",
      "Tarif 0 ile Tarif 1 arasındaki benzerlik: 0.461\n",
      "Tarif 0 ile Tarif 2 arasındaki benzerlik: 0.512\n",
      "Tarif 0 ile Tarif 3 arasındaki benzerlik: 0.358\n",
      "Tarif 0 ile Tarif 4 arasındaki benzerlik: 0.327\n"
     ]
    }
   ],
   "source": [
    "for i in range(5):\n",
    "    print(f\"Tarif 0 ile Tarif {i} arasındaki benzerlik: {cosine_sim[0][i]:.3f}\")"
   ]
  },
  {
   "cell_type": "code",
   "execution_count": 11,
   "id": "37051565-ce64-4b48-8d08-6af650defc06",
   "metadata": {},
   "outputs": [],
   "source": [
    "selected_recipe_index = 0\n",
    "\n",
    "similarity_scores = list(enumerate(cosine_sim[selected_recipe_index]))\n",
    "similarity_scores = sorted(similarity_scores, key=lambda x: x[1], reverse=True)\n",
    "similarity_scores = similarity_scores[1:]"
   ]
  },
  {
   "cell_type": "code",
   "execution_count": 12,
   "id": "7bb4d71b-5dd1-44b0-9d70-71f1cccd3525",
   "metadata": {},
   "outputs": [
    {
     "name": "stdout",
     "output_type": "stream",
     "text": [
      "Seçilen tarif: Banana Pancakes\n",
      "\n",
      "Bu tarife benzer diğer tarifler ve içerdiği malzemeler ile benzerlik skorları:\n",
      "\n",
      "- Vanilla Muffins\n",
      "  Malzemeler: flour sugar vanilla egg milk butter\n",
      "  Benzerlik skoru: 0.51\n",
      "\n",
      "- Chocolate Cake\n",
      "  Malzemeler: flour sugar cocoa powder egg milk butter\n",
      "  Benzerlik skoru: 0.46\n",
      "\n",
      "- Fruit Smoothie\n",
      "  Malzemeler: banana strawberry milk yogurt\n",
      "  Benzerlik skoru: 0.45\n",
      "\n",
      "- Zucchini Fritters\n",
      "  Malzemeler: zucchini egg flour cheese\n",
      "  Benzerlik skoru: 0.42\n",
      "\n",
      "- Omelette\n",
      "  Malzemeler: egg milk salt pepper\n",
      "  Benzerlik skoru: 0.36\n",
      "\n"
     ]
    }
   ],
   "source": [
    "top_similar_recipes = similarity_scores[:5]\n",
    "\n",
    "print(f\"Seçilen tarif: {df.iloc[selected_recipe_index]['title']}\\n\")\n",
    "print(\"Bu tarife benzer diğer tarifler ve içerdiği malzemeler ile benzerlik skorları:\\n\")\n",
    "\n",
    "for idx, score in top_similar_recipes:\n",
    "    recipe_title = df.iloc[idx]['title']\n",
    "    recipe_ingredients = df.iloc[idx]['ingredients']\n",
    "    \n",
    "    print(f\"- {recipe_title}\")\n",
    "    print(f\"  Malzemeler: {recipe_ingredients}\")\n",
    "    print(f\"  Benzerlik skoru: {score:.2f}\\n\")"
   ]
  },
  {
   "cell_type": "code",
   "execution_count": 13,
   "id": "00345e79-1b4b-44dd-a53d-c94de542023d",
   "metadata": {},
   "outputs": [],
   "source": [
    "def recommend_recipes(recipe_title, user_ingredients, df, vectorizer, tfidf_matrix, top_n=5):\n",
    "    filtered_recipes = df[df['title'].str.contains(recipe_title, case=False)].copy()\n",
    "\n",
    "    if filtered_recipes.empty:\n",
    "        return f\"'{recipe_title}' içeren tarif bulunamadı.\"\n",
    "    \n",
    "    filtered_indices = filtered_recipes.index\n",
    "    user_ing_text = \" \".join(user_ingredients)\n",
    "    user_vec = vectorizer.transform([user_ing_text])\n",
    "    \n",
    "    sim_scores = cosine_similarity(user_vec, tfidf_matrix[filtered_indices]).flatten()\n",
    "\n",
    "    top_indices = sim_scores.argsort()[-top_n:][::-1]\n",
    "\n",
    "    recommendations = []\n",
    "    for i in top_indices:\n",
    "        idx = filtered_indices[i]\n",
    "        recommendations.append({\n",
    "            \"title\": df.iloc[idx]['title'],\n",
    "            \"ingredients\": df.iloc[idx]['ingredients'],\n",
    "            \"similarity_score\": sim_scores[i]\n",
    "        })\n",
    "    \n",
    "    return recommendations\n"
   ]
  },
  {
   "cell_type": "code",
   "execution_count": 14,
   "id": "db5d3523-9f3a-4c81-9303-40950a63eaa9",
   "metadata": {},
   "outputs": [
    {
     "name": "stdout",
     "output_type": "stream",
     "text": [
      "Önerilen Tarifler:\n",
      "Tarif: Banana Pancakes\n",
      "Malzemeler: banana flour milk egg\n",
      "Benzerlik skoru: 0.90\n",
      "\n"
     ]
    }
   ],
   "source": [
    "user_title = \"Pancake\"\n",
    "user_ingredients = [\"banana\", \"egg\", \"flour\"]\n",
    "\n",
    "recommendations = recommend_recipes(user_title, user_ingredients, df, tfidf, tfidf_matrix)\n",
    "\n",
    "print(\"Önerilen Tarifler:\")\n",
    "for rec in recommendations:\n",
    "    print(f\"Tarif: {rec['title']}\")\n",
    "    print(f\"Malzemeler: {rec['ingredients']}\")\n",
    "    print(f\"Benzerlik skoru: {rec['similarity_score']:.2f}\\n\")"
   ]
  },
  {
   "cell_type": "code",
   "execution_count": null,
   "id": "b41088e1-8d04-4b18-b545-f01e0850a2e8",
   "metadata": {},
   "outputs": [],
   "source": [
    "import pickle\n",
    "\n",
    "# TF-IDF Vectorizer\n",
    "with open('vectorizer.pkl', 'wb') as f:\n",
    "    pickle.dump(tfidf, f)\n",
    "\n",
    "# TF-IDF Matrix\n",
    "with open('tfidf_matrix.pkl', 'wb') as f:\n",
    "    pickle.dump(tfidf_matrix, f)"
   ]
  }
 ],
 "metadata": {
  "kernelspec": {
   "display_name": "Python 3 (ipykernel)",
   "language": "python",
   "name": "python3"
  },
  "language_info": {
   "codemirror_mode": {
    "name": "ipython",
    "version": 3
   },
   "file_extension": ".py",
   "mimetype": "text/x-python",
   "name": "python",
   "nbconvert_exporter": "python",
   "pygments_lexer": "ipython3",
   "version": "3.11.2"
  }
 },
 "nbformat": 4,
 "nbformat_minor": 5
}
