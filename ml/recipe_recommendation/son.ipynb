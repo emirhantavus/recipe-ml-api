{
 "cells": [
  {
   "cell_type": "code",
   "execution_count": 1,
   "id": "af38881f-e785-400e-81c2-6bb450c007ad",
   "metadata": {},
   "outputs": [],
   "source": [
    "import pandas as pd\n",
    "from sklearn.feature_extraction.text import TfidfVectorizer\n",
    "from sklearn.metrics.pairwise import cosine_similarity\n",
    "import pickle"
   ]
  },
  {
   "cell_type": "code",
   "execution_count": 2,
   "id": "228c3c88-6cc1-450b-8740-7703ce33fb3f",
   "metadata": {},
   "outputs": [],
   "source": [
    "df = pd.read_csv(\"recipes_full.csv\")"
   ]
  },
  {
   "cell_type": "code",
   "execution_count": 3,
   "id": "99f0d1e4-f45a-423f-9bdf-300597681c17",
   "metadata": {},
   "outputs": [
    {
     "data": {
      "text/html": [
       "<div>\n",
       "<style scoped>\n",
       "    .dataframe tbody tr th:only-of-type {\n",
       "        vertical-align: middle;\n",
       "    }\n",
       "\n",
       "    .dataframe tbody tr th {\n",
       "        vertical-align: top;\n",
       "    }\n",
       "\n",
       "    .dataframe thead th {\n",
       "        text-align: right;\n",
       "    }\n",
       "</style>\n",
       "<table border=\"1\" class=\"dataframe\">\n",
       "  <thead>\n",
       "    <tr style=\"text-align: right;\">\n",
       "      <th></th>\n",
       "      <th>id</th>\n",
       "      <th>title</th>\n",
       "      <th>description</th>\n",
       "      <th>instructions</th>\n",
       "      <th>ingredients</th>\n",
       "    </tr>\n",
       "  </thead>\n",
       "  <tbody>\n",
       "    <tr>\n",
       "      <th>0</th>\n",
       "      <td>82</td>\n",
       "      <td>Grilled Chicken Breast</td>\n",
       "      <td>Simply grilled chicken with lemon and herbs.</td>\n",
       "      <td>1. Prepare ingredients. 2. Cook accordingly. 3...</td>\n",
       "      <td>olive oil, chicken breast, lemon juice, thyme</td>\n",
       "    </tr>\n",
       "    <tr>\n",
       "      <th>1</th>\n",
       "      <td>60</td>\n",
       "      <td>Kuru Fasulye</td>\n",
       "      <td>Classic Turkish white bean stew with tomato sa...</td>\n",
       "      <td>1. Soak beans overnight. 2. Sauté onions and t...</td>\n",
       "      <td>white beans, onion, tomato paste, olive oil</td>\n",
       "    </tr>\n",
       "    <tr>\n",
       "      <th>2</th>\n",
       "      <td>61</td>\n",
       "      <td>Tavuk Sote</td>\n",
       "      <td>Chicken sautéed with mixed vegetables.</td>\n",
       "      <td>1. Prepare ingredients. 2. Cook accordingly. 3...</td>\n",
       "      <td>onion, garlic, olive oil, chicken breast</td>\n",
       "    </tr>\n",
       "    <tr>\n",
       "      <th>3</th>\n",
       "      <td>62</td>\n",
       "      <td>Tavuk Şiş</td>\n",
       "      <td>Marinated chicken skewers grilled to perfection.</td>\n",
       "      <td>1. Prepare ingredients. 2. Cook accordingly. 3...</td>\n",
       "      <td>olive oil, red pepper flakes, salt, chicken br...</td>\n",
       "    </tr>\n",
       "    <tr>\n",
       "      <th>4</th>\n",
       "      <td>63</td>\n",
       "      <td>Adana Kebap</td>\n",
       "      <td>Spicy minced meat kebab.</td>\n",
       "      <td>1. Prepare ingredients. 2. Cook accordingly. 3...</td>\n",
       "      <td>ground beef, onion, red pepper flakes, salt</td>\n",
       "    </tr>\n",
       "  </tbody>\n",
       "</table>\n",
       "</div>"
      ],
      "text/plain": [
       "   id                   title  \\\n",
       "0  82  Grilled Chicken Breast   \n",
       "1  60            Kuru Fasulye   \n",
       "2  61              Tavuk Sote   \n",
       "3  62               Tavuk Şiş   \n",
       "4  63             Adana Kebap   \n",
       "\n",
       "                                         description  \\\n",
       "0       Simply grilled chicken with lemon and herbs.   \n",
       "1  Classic Turkish white bean stew with tomato sa...   \n",
       "2             Chicken sautéed with mixed vegetables.   \n",
       "3   Marinated chicken skewers grilled to perfection.   \n",
       "4                           Spicy minced meat kebab.   \n",
       "\n",
       "                                        instructions  \\\n",
       "0  1. Prepare ingredients. 2. Cook accordingly. 3...   \n",
       "1  1. Soak beans overnight. 2. Sauté onions and t...   \n",
       "2  1. Prepare ingredients. 2. Cook accordingly. 3...   \n",
       "3  1. Prepare ingredients. 2. Cook accordingly. 3...   \n",
       "4  1. Prepare ingredients. 2. Cook accordingly. 3...   \n",
       "\n",
       "                                         ingredients  \n",
       "0      olive oil, chicken breast, lemon juice, thyme  \n",
       "1        white beans, onion, tomato paste, olive oil  \n",
       "2           onion, garlic, olive oil, chicken breast  \n",
       "3  olive oil, red pepper flakes, salt, chicken br...  \n",
       "4        ground beef, onion, red pepper flakes, salt  "
      ]
     },
     "execution_count": 3,
     "metadata": {},
     "output_type": "execute_result"
    }
   ],
   "source": [
    "df.head()"
   ]
  },
  {
   "cell_type": "code",
   "execution_count": 5,
   "id": "0a311866-886d-4763-9e21-ceb10d610835",
   "metadata": {},
   "outputs": [
    {
     "data": {
      "text/plain": [
       "id              0\n",
       "title           0\n",
       "description     0\n",
       "instructions    0\n",
       "ingredients     0\n",
       "dtype: int64"
      ]
     },
     "execution_count": 5,
     "metadata": {},
     "output_type": "execute_result"
    }
   ],
   "source": [
    "df.rename(columns={\"name\": \"title\"}, inplace=True)\n",
    "df.isnull().sum()"
   ]
  },
  {
   "cell_type": "code",
   "execution_count": 6,
   "id": "f1cd0058-b404-4542-a768-c1f431a50398",
   "metadata": {},
   "outputs": [],
   "source": [
    "df.dropna(subset=[\"title\", \"ingredients\"], inplace=True)"
   ]
  },
  {
   "cell_type": "code",
   "execution_count": 7,
   "id": "29c11234-bdcf-4020-bc69-fdb90265bc93",
   "metadata": {},
   "outputs": [],
   "source": [
    "df[\"ingredients_str\"] = df[\"ingredients\"].str.replace(\",\", \" \")"
   ]
  },
  {
   "cell_type": "code",
   "execution_count": 8,
   "id": "2dfbae88-cc1d-4266-b6cf-8a29b0068097",
   "metadata": {},
   "outputs": [],
   "source": [
    "title_vectorizer = TfidfVectorizer()\n",
    "title_matrix = title_vectorizer.fit_transform(df[\"title\"])"
   ]
  },
  {
   "cell_type": "code",
   "execution_count": 9,
   "id": "f5949611-3559-490d-b8b0-3b49cd05d9ed",
   "metadata": {},
   "outputs": [],
   "source": [
    "ingredient_vectorizer = TfidfVectorizer()\n",
    "ingredient_matrix = ingredient_vectorizer.fit_transform(df[\"ingredients_str\"])"
   ]
  },
  {
   "cell_type": "code",
   "execution_count": 30,
   "id": "8d87fd7b-0658-43f6-9193-75cd06491938",
   "metadata": {},
   "outputs": [],
   "source": [
    "def recommend(query_title, user_ingredients, df, \n",
    "              title_vectorizer, title_matrix,\n",
    "              ingredient_vectorizer, ingredient_matrix, \n",
    "              alpha=0.5, top_n=5):\n",
    "    \n",
    "    # 1. Başlık vektörü ve skorları\n",
    "    title_vec = title_vectorizer.transform([query_title])\n",
    "    title_scores = cosine_similarity(title_vec, title_matrix).flatten()\n",
    "\n",
    "    # 2. Malzeme vektörü ve skorları\n",
    "    feature_names = set(ingredient_vectorizer.get_feature_names_out())\n",
    "    common_ingredients = set(user_ingredients).intersection(feature_names)\n",
    "\n",
    "    if not common_ingredients:\n",
    "        return [{\"error\": \"Hiçbir malzeme eşleşmedi.\"}]\n",
    "\n",
    "    ing_text = \" \".join(common_ingredients)\n",
    "    ing_vec = ingredient_vectorizer.transform([ing_text])\n",
    "    ing_scores = cosine_similarity(ing_vec, ingredient_matrix).flatten()\n",
    "\n",
    "    combined_scores = alpha * title_scores + (1 - alpha) * ing_scores\n",
    "    top_indices = combined_scores.argsort()[-top_n:][::-1]\n",
    "\n",
    "    results = []\n",
    "    for idx in top_indices:\n",
    "        results.append({\n",
    "            \"title\": df.iloc[idx][\"title\"],\n",
    "            \"ingredients\": df.iloc[idx][\"ingredients\"],\n",
    "            \"score\": round(combined_scores[idx], 4)  # daha hassas round\n",
    "        })\n",
    "\n",
    "    return results"
   ]
  },
  {
   "cell_type": "code",
   "execution_count": 51,
   "id": "8142164f-c1cd-445f-9083-4a1237f6a0cc",
   "metadata": {},
   "outputs": [
    {
     "data": {
      "text/plain": [
       "[{'title': 'Mercimek Çorbası',\n",
       "  'ingredients': 'red lentils, onion, milk, butter',\n",
       "  'score': 0.887},\n",
       " {'title': 'Ezogelin Çorbası',\n",
       "  'ingredients': 'onion, tomato paste, bulgur, red lentils',\n",
       "  'score': 0.353},\n",
       " {'title': 'Mercimek Köftesi',\n",
       "  'ingredients': 'onion, bulgur, red lentils, red pepper flakes',\n",
       "  'score': 0.331},\n",
       " {'title': 'Pilav Üstü Et',\n",
       "  'ingredients': 'onion, rice, butter, chicken breast',\n",
       "  'score': 0.258},\n",
       " {'title': 'Hünkar Beğendi',\n",
       "  'ingredients': 'eggplant, ground beef, butter, milk',\n",
       "  'score': 0.258}]"
      ]
     },
     "execution_count": 51,
     "metadata": {},
     "output_type": "execute_result"
    }
   ],
   "source": [
    "recommend(\n",
    "    query_title=\"Mercimek Çorbası\",\n",
    "    user_ingredients=[\"milk\", \"butter\", \"red lentils\",\"onion\"],\n",
    "    df=df,\n",
    "    title_vectorizer=title_vectorizer,\n",
    "    title_matrix=title_matrix,\n",
    "    ingredient_vectorizer=ingredient_vectorizer,\n",
    "    ingredient_matrix=ingredient_matrix,\n",
    "    alpha=0.5\n",
    ")"
   ]
  },
  {
   "cell_type": "code",
   "execution_count": 29,
   "id": "4ae7a91c-bc29-44a5-a349-f8e8d6f96d0e",
   "metadata": {},
   "outputs": [
    {
     "name": "stdout",
     "output_type": "stream",
     "text": [
      "Başlık skoru: 1.0\n",
      "Malzeme skoru: 1.0\n"
     ]
    }
   ],
   "source": [
    "from sklearn.metrics.pairwise import cosine_similarity\n",
    "\n",
    "title_vec = title_vectorizer.transform([\"Zeytinyağlı Fasulye\"])\n",
    "title_scores = cosine_similarity(title_vec, title_matrix)\n",
    "\n",
    "print(\"Başlık skoru:\", max(title_scores[0]))  # muhtemelen 1.0 değil, mesela 0.98\n",
    "\n",
    "user_ing_text = \" \".join([\"onion\", \"tomato\", \"olive oil\", \"white beans\"])\n",
    "ing_vec = ingredient_vectorizer.transform([user_ing_text])\n",
    "ing_scores = cosine_similarity(ing_vec, ingredient_matrix)\n",
    "\n",
    "print(\"Malzeme skoru:\", max(ing_scores[0]))  # yine 1.0 olmayabilir, mesela 0.96"
   ]
  },
  {
   "cell_type": "code",
   "execution_count": 41,
   "id": "0434feb1-8b8e-4ec4-a991-56469eda3dac",
   "metadata": {},
   "outputs": [],
   "source": [
    "import pandas as pd\n",
    "from sklearn.feature_extraction.text import TfidfVectorizer, CountVectorizer\n",
    "from sklearn.metrics.pairwise import cosine_similarity"
   ]
  },
  {
   "cell_type": "code",
   "execution_count": 42,
   "id": "d1e7a199-c69e-4fca-acb3-acb668243984",
   "metadata": {},
   "outputs": [],
   "source": [
    "df = pd.read_csv(\"recipes_full.csv\")\n",
    "\n",
    "# Eğitim\n",
    "title_vectorizer = TfidfVectorizer()\n",
    "title_matrix = title_vectorizer.fit_transform(df[\"title\"])\n",
    "\n",
    "ingredient_vectorizer = CountVectorizer()\n",
    "ingredient_matrix = ingredient_vectorizer.fit_transform(df[\"ingredients\"])\n"
   ]
  },
  {
   "cell_type": "code",
   "execution_count": 43,
   "id": "afaeba66-c314-4e68-b2db-4a9c3877945e",
   "metadata": {},
   "outputs": [],
   "source": [
    "def recommend(query_title, user_ingredients, df, \n",
    "              title_vectorizer, title_matrix,\n",
    "              ingredient_vectorizer, ingredient_matrix,\n",
    "              alpha=0.5, top_n=5):\n",
    "    \n",
    "    # Başlık skoru\n",
    "    title_vec = title_vectorizer.transform([query_title])\n",
    "    title_scores = cosine_similarity(title_vec, title_matrix).flatten()\n",
    "\n",
    "    # Malzeme skoru\n",
    "    all_features = set(ingredient_vectorizer.get_feature_names_out())\n",
    "    user_ing = set(user_ingredients).intersection(all_features)\n",
    "    if not user_ing:\n",
    "        return \"Hiçbir malzeme eşleşmedi.\"\n",
    "\n",
    "    user_ing_text = \" \".join(user_ing)\n",
    "    ing_vec = ingredient_vectorizer.transform([user_ing_text])\n",
    "    ing_scores = cosine_similarity(ing_vec, ingredient_matrix).flatten()\n",
    "\n",
    "    # Skorları karıştır\n",
    "    combined = alpha * title_scores + (1 - alpha) * ing_scores\n",
    "    indices = combined.argsort()[-top_n:][::-1]\n",
    "\n",
    "    results = []\n",
    "    for idx in indices:\n",
    "        results.append({\n",
    "            \"title\": df.iloc[idx][\"title\"],\n",
    "            \"ingredients\": df.iloc[idx][\"ingredients\"],\n",
    "            \"score\": round(combined[idx], 3)\n",
    "        })\n",
    "    return results\n"
   ]
  },
  {
   "cell_type": "code",
   "execution_count": 45,
   "id": "540f96e1-1a5b-4fbb-8ae4-9b8c5b16c1de",
   "metadata": {},
   "outputs": [
    {
     "data": {
      "text/plain": [
       "[{'title': 'Mercimek Çorbası',\n",
       "  'ingredients': 'red lentils, onion, milk, butter',\n",
       "  'score': 0.887},\n",
       " {'title': 'Ezogelin Çorbası',\n",
       "  'ingredients': 'onion, tomato paste, bulgur, red lentils',\n",
       "  'score': 0.353},\n",
       " {'title': 'Mercimek Köftesi',\n",
       "  'ingredients': 'onion, bulgur, red lentils, red pepper flakes',\n",
       "  'score': 0.331},\n",
       " {'title': 'Pilav Üstü Et',\n",
       "  'ingredients': 'onion, rice, butter, chicken breast',\n",
       "  'score': 0.258},\n",
       " {'title': 'Hünkar Beğendi',\n",
       "  'ingredients': 'eggplant, ground beef, butter, milk',\n",
       "  'score': 0.258}]"
      ]
     },
     "execution_count": 45,
     "metadata": {},
     "output_type": "execute_result"
    }
   ],
   "source": [
    "recommend(\n",
    "    query_title=\"Mercimek Çorbası\",\n",
    "    user_ingredients=[\"milk\", \"butter\", \"red lentils\", \"onion\"],\n",
    "    df=df,\n",
    "    title_vectorizer=title_vectorizer,\n",
    "    title_matrix=title_matrix,\n",
    "    ingredient_vectorizer=ingredient_vectorizer,\n",
    "    ingredient_matrix=ingredient_matrix,\n",
    "    alpha=0.5\n",
    ")\n"
   ]
  },
  {
   "cell_type": "code",
   "execution_count": 52,
   "id": "6144b9e2-ccb7-4d57-b6a7-f850b6f32979",
   "metadata": {},
   "outputs": [],
   "source": [
    "with open(\"recipe_model.pkl\", \"wb\") as f:\n",
    "    pickle.dump({\n",
    "        \"df\": df,\n",
    "        \"title_vectorizer\": title_vectorizer,\n",
    "        \"title_matrix\": title_matrix,\n",
    "        \"ingredient_vectorizer\": ingredient_vectorizer,\n",
    "        \"ingredient_matrix\": ingredient_matrix\n",
    "    }, f)"
   ]
  },
  {
   "cell_type": "code",
   "execution_count": null,
   "id": "eae5e427-56a3-4bfc-9ecf-f87cdbe0cb5a",
   "metadata": {},
   "outputs": [],
   "source": []
  }
 ],
 "metadata": {
  "kernelspec": {
   "display_name": "Python 3 (ipykernel)",
   "language": "python",
   "name": "python3"
  },
  "language_info": {
   "codemirror_mode": {
    "name": "ipython",
    "version": 3
   },
   "file_extension": ".py",
   "mimetype": "text/x-python",
   "name": "python",
   "nbconvert_exporter": "python",
   "pygments_lexer": "ipython3",
   "version": "3.11.2"
  }
 },
 "nbformat": 4,
 "nbformat_minor": 5
}
